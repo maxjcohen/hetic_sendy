{
 "cells": [
  {
   "cell_type": "code",
   "execution_count": 1,
   "id": "e2c4a4c0-8d78-48f5-a653-6b027bc4c900",
   "metadata": {},
   "outputs": [],
   "source": [
    "import pandas as pd"
   ]
  },
  {
   "cell_type": "markdown",
   "id": "16fee28e-fa14-481c-b8cf-5fa981395a6d",
   "metadata": {},
   "source": [
    "## Lecture du CSV"
   ]
  },
  {
   "cell_type": "code",
   "execution_count": 2,
   "id": "928471a5-c94d-443a-a7e0-ef9746146ad6",
   "metadata": {},
   "outputs": [],
   "source": [
    "df = pd.read_csv(\"Train.csv\")"
   ]
  },
  {
   "cell_type": "markdown",
   "id": "86770302-8705-4501-9798-70d4024cad16",
   "metadata": {},
   "source": [
    "## Affichage d'un échantillon de la base de données"
   ]
  },
  {
   "cell_type": "code",
   "execution_count": 3,
   "id": "7d8a2dd6-52c4-4b62-b9fa-40d1a21b7bdf",
   "metadata": {},
   "outputs": [
    {
     "data": {
      "text/html": [
       "<div>\n",
       "<style scoped>\n",
       "    .dataframe tbody tr th:only-of-type {\n",
       "        vertical-align: middle;\n",
       "    }\n",
       "\n",
       "    .dataframe tbody tr th {\n",
       "        vertical-align: top;\n",
       "    }\n",
       "\n",
       "    .dataframe thead th {\n",
       "        text-align: right;\n",
       "    }\n",
       "</style>\n",
       "<table border=\"1\" class=\"dataframe\">\n",
       "  <thead>\n",
       "    <tr style=\"text-align: right;\">\n",
       "      <th></th>\n",
       "      <th>Order No</th>\n",
       "      <th>User Id</th>\n",
       "      <th>Vehicle Type</th>\n",
       "      <th>Platform Type</th>\n",
       "      <th>Personal or Business</th>\n",
       "      <th>Placement - Day of Month</th>\n",
       "      <th>Placement - Weekday (Mo = 1)</th>\n",
       "      <th>Placement - Time</th>\n",
       "      <th>Confirmation - Day of Month</th>\n",
       "      <th>Confirmation - Weekday (Mo = 1)</th>\n",
       "      <th>...</th>\n",
       "      <th>Arrival at Destination - Time</th>\n",
       "      <th>Distance (KM)</th>\n",
       "      <th>Temperature</th>\n",
       "      <th>Precipitation in millimeters</th>\n",
       "      <th>Pickup Lat</th>\n",
       "      <th>Pickup Long</th>\n",
       "      <th>Destination Lat</th>\n",
       "      <th>Destination Long</th>\n",
       "      <th>Rider Id</th>\n",
       "      <th>Time from Pickup to Arrival</th>\n",
       "    </tr>\n",
       "  </thead>\n",
       "  <tbody>\n",
       "    <tr>\n",
       "      <th>7540</th>\n",
       "      <td>Order_No_25151</td>\n",
       "      <td>User_Id_1205</td>\n",
       "      <td>Bike</td>\n",
       "      <td>3</td>\n",
       "      <td>Business</td>\n",
       "      <td>3</td>\n",
       "      <td>3</td>\n",
       "      <td>1:35:47 PM</td>\n",
       "      <td>3</td>\n",
       "      <td>3</td>\n",
       "      <td>...</td>\n",
       "      <td>1:54:17 PM</td>\n",
       "      <td>2</td>\n",
       "      <td>26.7</td>\n",
       "      <td>NaN</td>\n",
       "      <td>-1.292111</td>\n",
       "      <td>36.819219</td>\n",
       "      <td>-1.286246</td>\n",
       "      <td>36.821479</td>\n",
       "      <td>Rider_Id_456</td>\n",
       "      <td>375</td>\n",
       "    </tr>\n",
       "    <tr>\n",
       "      <th>6820</th>\n",
       "      <td>Order_No_5459</td>\n",
       "      <td>User_Id_1304</td>\n",
       "      <td>Bike</td>\n",
       "      <td>3</td>\n",
       "      <td>Business</td>\n",
       "      <td>3</td>\n",
       "      <td>1</td>\n",
       "      <td>4:05:17 PM</td>\n",
       "      <td>3</td>\n",
       "      <td>1</td>\n",
       "      <td>...</td>\n",
       "      <td>4:48:09 PM</td>\n",
       "      <td>6</td>\n",
       "      <td>23.6</td>\n",
       "      <td>NaN</td>\n",
       "      <td>-1.322630</td>\n",
       "      <td>36.871990</td>\n",
       "      <td>-1.329568</td>\n",
       "      <td>36.852083</td>\n",
       "      <td>Rider_Id_439</td>\n",
       "      <td>1548</td>\n",
       "    </tr>\n",
       "    <tr>\n",
       "      <th>7355</th>\n",
       "      <td>Order_No_26914</td>\n",
       "      <td>User_Id_867</td>\n",
       "      <td>Bike</td>\n",
       "      <td>3</td>\n",
       "      <td>Business</td>\n",
       "      <td>5</td>\n",
       "      <td>3</td>\n",
       "      <td>3:48:28 PM</td>\n",
       "      <td>5</td>\n",
       "      <td>3</td>\n",
       "      <td>...</td>\n",
       "      <td>4:28:37 PM</td>\n",
       "      <td>9</td>\n",
       "      <td>25.1</td>\n",
       "      <td>NaN</td>\n",
       "      <td>-1.257422</td>\n",
       "      <td>36.792707</td>\n",
       "      <td>-1.306378</td>\n",
       "      <td>36.751984</td>\n",
       "      <td>Rider_Id_878</td>\n",
       "      <td>884</td>\n",
       "    </tr>\n",
       "    <tr>\n",
       "      <th>1349</th>\n",
       "      <td>Order_No_7807</td>\n",
       "      <td>User_Id_1341</td>\n",
       "      <td>Bike</td>\n",
       "      <td>3</td>\n",
       "      <td>Business</td>\n",
       "      <td>13</td>\n",
       "      <td>3</td>\n",
       "      <td>2:38:40 PM</td>\n",
       "      <td>13</td>\n",
       "      <td>3</td>\n",
       "      <td>...</td>\n",
       "      <td>2:58:09 PM</td>\n",
       "      <td>7</td>\n",
       "      <td>29.4</td>\n",
       "      <td>NaN</td>\n",
       "      <td>-1.307143</td>\n",
       "      <td>36.825009</td>\n",
       "      <td>-1.331619</td>\n",
       "      <td>36.847976</td>\n",
       "      <td>Rider_Id_633</td>\n",
       "      <td>199</td>\n",
       "    </tr>\n",
       "    <tr>\n",
       "      <th>11179</th>\n",
       "      <td>Order_No_10921</td>\n",
       "      <td>User_Id_459</td>\n",
       "      <td>Bike</td>\n",
       "      <td>1</td>\n",
       "      <td>Personal</td>\n",
       "      <td>6</td>\n",
       "      <td>5</td>\n",
       "      <td>12:10:16 PM</td>\n",
       "      <td>6</td>\n",
       "      <td>5</td>\n",
       "      <td>...</td>\n",
       "      <td>1:42:44 PM</td>\n",
       "      <td>10</td>\n",
       "      <td>20.4</td>\n",
       "      <td>NaN</td>\n",
       "      <td>-1.318941</td>\n",
       "      <td>36.838186</td>\n",
       "      <td>-1.265531</td>\n",
       "      <td>36.828148</td>\n",
       "      <td>Rider_Id_465</td>\n",
       "      <td>2701</td>\n",
       "    </tr>\n",
       "  </tbody>\n",
       "</table>\n",
       "<p>5 rows × 29 columns</p>\n",
       "</div>"
      ],
      "text/plain": [
       "             Order No       User Id Vehicle Type  Platform Type  \\\n",
       "7540   Order_No_25151  User_Id_1205         Bike              3   \n",
       "6820    Order_No_5459  User_Id_1304         Bike              3   \n",
       "7355   Order_No_26914   User_Id_867         Bike              3   \n",
       "1349    Order_No_7807  User_Id_1341         Bike              3   \n",
       "11179  Order_No_10921   User_Id_459         Bike              1   \n",
       "\n",
       "      Personal or Business  Placement - Day of Month  \\\n",
       "7540              Business                         3   \n",
       "6820              Business                         3   \n",
       "7355              Business                         5   \n",
       "1349              Business                        13   \n",
       "11179             Personal                         6   \n",
       "\n",
       "       Placement - Weekday (Mo = 1) Placement - Time  \\\n",
       "7540                              3       1:35:47 PM   \n",
       "6820                              1       4:05:17 PM   \n",
       "7355                              3       3:48:28 PM   \n",
       "1349                              3       2:38:40 PM   \n",
       "11179                             5      12:10:16 PM   \n",
       "\n",
       "       Confirmation - Day of Month  Confirmation - Weekday (Mo = 1)  ...  \\\n",
       "7540                             3                                3  ...   \n",
       "6820                             3                                1  ...   \n",
       "7355                             5                                3  ...   \n",
       "1349                            13                                3  ...   \n",
       "11179                            6                                5  ...   \n",
       "\n",
       "      Arrival at Destination - Time  Distance (KM)  Temperature  \\\n",
       "7540                     1:54:17 PM              2         26.7   \n",
       "6820                     4:48:09 PM              6         23.6   \n",
       "7355                     4:28:37 PM              9         25.1   \n",
       "1349                     2:58:09 PM              7         29.4   \n",
       "11179                    1:42:44 PM             10         20.4   \n",
       "\n",
       "      Precipitation in millimeters  Pickup Lat  Pickup Long Destination Lat  \\\n",
       "7540                           NaN   -1.292111    36.819219       -1.286246   \n",
       "6820                           NaN   -1.322630    36.871990       -1.329568   \n",
       "7355                           NaN   -1.257422    36.792707       -1.306378   \n",
       "1349                           NaN   -1.307143    36.825009       -1.331619   \n",
       "11179                          NaN   -1.318941    36.838186       -1.265531   \n",
       "\n",
       "       Destination Long      Rider Id Time from Pickup to Arrival  \n",
       "7540          36.821479  Rider_Id_456                         375  \n",
       "6820          36.852083  Rider_Id_439                        1548  \n",
       "7355          36.751984  Rider_Id_878                         884  \n",
       "1349          36.847976  Rider_Id_633                         199  \n",
       "11179         36.828148  Rider_Id_465                        2701  \n",
       "\n",
       "[5 rows x 29 columns]"
      ]
     },
     "execution_count": 3,
     "metadata": {},
     "output_type": "execute_result"
    }
   ],
   "source": [
    "df.sample(5)"
   ]
  },
  {
   "cell_type": "markdown",
   "id": "6540ed8d-c975-418c-987e-703320aae577",
   "metadata": {},
   "source": [
    "## Affichage des catégories de la colomne Vehicle Type\n",
    "On compte le nombre de valeurs unique de la colomne ; comme il n'y en a qu'une seule, on peut s'arrêter là."
   ]
  },
  {
   "cell_type": "code",
   "execution_count": 4,
   "id": "e53c3966-c3ce-4044-a00c-7135bff29b00",
   "metadata": {},
   "outputs": [
    {
     "data": {
      "text/plain": [
       "array(['Bike'], dtype=object)"
      ]
     },
     "execution_count": 4,
     "metadata": {},
     "output_type": "execute_result"
    }
   ],
   "source": [
    "df[\"Vehicle Type\"].unique()"
   ]
  },
  {
   "cell_type": "markdown",
   "id": "783ae194-46b9-443e-8495-a29504364c02",
   "metadata": {},
   "source": [
    "## Affichage des catégories de la colomne Personal or Business"
   ]
  },
  {
   "cell_type": "code",
   "execution_count": 5,
   "id": "3e3efd13-f5b1-409b-bad2-9ab95e5cd311",
   "metadata": {},
   "outputs": [
    {
     "data": {
      "text/plain": [
       "{'Business': 17384, 'Personal': 3817}"
      ]
     },
     "execution_count": 5,
     "metadata": {},
     "output_type": "execute_result"
    }
   ],
   "source": [
    "size_columns = {}\n",
    "for col in df[\"Personal or Business\"].unique():\n",
    "    size_columns[col] = df[df[\"Personal or Business\"] == col].shape[0]\n",
    "size_columns"
   ]
  },
  {
   "cell_type": "code",
   "execution_count": 6,
   "id": "d74f0bfd-97c0-4a76-8980-584918b784aa",
   "metadata": {},
   "outputs": [
    {
     "data": {
      "image/png": "[encoded data removed]",
      "text/plain": [
       "<Figure size 432x288 with 1 Axes>"
      ]
     },
     "metadata": {
      "needs_background": "light"
     },
     "output_type": "display_data"
    }
   ],
   "source": [
    "df[\"Personal or Business\"].value_counts().plot.bar();"
   ]
  },
  {
   "cell_type": "markdown",
   "id": "919f6d7d-24fc-41da-895f-1a456310c873",
   "metadata": {},
   "source": [
    "## Affichage des dates"
   ]
  },
  {
   "cell_type": "code",
   "execution_count": 7,
   "id": "3d94cfe3-32df-4cdb-8e7e-40c9b00724d0",
   "metadata": {
    "tags": []
   },
   "outputs": [
    {
     "data": {
      "text/plain": [
       "{1: 'Monday',\n",
       " 2: 'Tuesday',\n",
       " 3: 'Wesdnesday',\n",
       " 4: 'Thursday',\n",
       " 5: 'Friday',\n",
       " 6: 'Saturday',\n",
       " 7: 'Sunday'}"
      ]
     },
     "execution_count": 7,
     "metadata": {},
     "output_type": "execute_result"
    }
   ],
   "source": [
    "days = [\"Monday\", \"Tuesday\", \"Wesdnesday\", \"Thursday\", \"Friday\", \"Saturday\", \"Sunday\"]\n",
    "\n",
    "idx2days = { idx+1:days[idx] for idx in range(7) }\n",
    "idx2days"
   ]
  },
  {
   "cell_type": "code",
   "execution_count": 8,
   "id": "6c131dd9-9227-42bf-9d3b-3878d88d265f",
   "metadata": {},
   "outputs": [
    {
     "data": {
      "image/png": "[encoded data removed]",
      "text/plain": [
       "<Figure size 432x288 with 1 Axes>"
      ]
     },
     "metadata": {
      "needs_background": "light"
     },
     "output_type": "display_data"
    }
   ],
   "source": [
    "df[\"Arrival at Destination - Weekday (Mo = 1)\"].value_counts().sort_index().rename(idx2days).plot.bar(rot=45);"
   ]
  }
 ],
 "metadata": {
  "kernelspec": {
   "display_name": "Python 3 (ipykernel)",
   "language": "python",
   "name": "python3"
  },
  "language_info": {
   "codemirror_mode": {
    "name": "ipython",
    "version": 3
   },
   "file_extension": ".py",
   "mimetype": "text/x-python",
   "name": "python",
   "nbconvert_exporter": "python",
   "pygments_lexer": "ipython3",
   "version": "3.10.4"
  }
 },
 "nbformat": 4,
 "nbformat_minor": 5
}
