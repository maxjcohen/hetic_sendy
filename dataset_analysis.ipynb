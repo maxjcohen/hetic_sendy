{
 "cells": [
  {
   "cell_type": "code",
   "execution_count": 1,
   "id": "e2c4a4c0-8d78-48f5-a653-6b027bc4c900",
   "metadata": {},
   "outputs": [],
   "source": [
    "import pandas as pd"
   ]
  },
  {
   "cell_type": "markdown",
   "id": "16fee28e-fa14-481c-b8cf-5fa981395a6d",
   "metadata": {},
   "source": [
    "## Lecture du CSV"
   ]
  },
  {
   "cell_type": "code",
   "execution_count": 2,
   "id": "928471a5-c94d-443a-a7e0-ef9746146ad6",
   "metadata": {},
   "outputs": [],
   "source": [
    "df = pd.read_csv(\"Train.csv\")"
   ]
  },
  {
   "cell_type": "markdown",
   "id": "86770302-8705-4501-9798-70d4024cad16",
   "metadata": {},
   "source": [
    "## Affichage d'un échantillon de la base de données"
   ]
  },
  {
   "cell_type": "code",
   "execution_count": 3,
   "id": "7d8a2dd6-52c4-4b62-b9fa-40d1a21b7bdf",
   "metadata": {},
   "outputs": [
    {
     "data": {
      "text/html": [
       "<div>\n",
       "<style scoped>\n",
       "    .dataframe tbody tr th:only-of-type {\n",
       "        vertical-align: middle;\n",
       "    }\n",
       "\n",
       "    .dataframe tbody tr th {\n",
       "        vertical-align: top;\n",
       "    }\n",
       "\n",
       "    .dataframe thead th {\n",
       "        text-align: right;\n",
       "    }\n",
       "</style>\n",
       "<table border=\"1\" class=\"dataframe\">\n",
       "  <thead>\n",
       "    <tr style=\"text-align: right;\">\n",
       "      <th></th>\n",
       "      <th>Order No</th>\n",
       "      <th>User Id</th>\n",
       "      <th>Vehicle Type</th>\n",
       "      <th>Platform Type</th>\n",
       "      <th>Personal or Business</th>\n",
       "      <th>Placement - Day of Month</th>\n",
       "      <th>Placement - Weekday (Mo = 1)</th>\n",
       "      <th>Placement - Time</th>\n",
       "      <th>Confirmation - Day of Month</th>\n",
       "      <th>Confirmation - Weekday (Mo = 1)</th>\n",
       "      <th>...</th>\n",
       "      <th>Arrival at Destination - Time</th>\n",
       "      <th>Distance (KM)</th>\n",
       "      <th>Temperature</th>\n",
       "      <th>Precipitation in millimeters</th>\n",
       "      <th>Pickup Lat</th>\n",
       "      <th>Pickup Long</th>\n",
       "      <th>Destination Lat</th>\n",
       "      <th>Destination Long</th>\n",
       "      <th>Rider Id</th>\n",
       "      <th>Time from Pickup to Arrival</th>\n",
       "    </tr>\n",
       "  </thead>\n",
       "  <tbody>\n",
       "    <tr>\n",
       "      <th>2130</th>\n",
       "      <td>Order_No_13468</td>\n",
       "      <td>User_Id_2869</td>\n",
       "      <td>Bike</td>\n",
       "      <td>3</td>\n",
       "      <td>Business</td>\n",
       "      <td>5</td>\n",
       "      <td>5</td>\n",
       "      <td>10:24:56 AM</td>\n",
       "      <td>5</td>\n",
       "      <td>5</td>\n",
       "      <td>...</td>\n",
       "      <td>11:04:41 AM</td>\n",
       "      <td>10</td>\n",
       "      <td>24.5</td>\n",
       "      <td>NaN</td>\n",
       "      <td>-1.258414</td>\n",
       "      <td>36.804800</td>\n",
       "      <td>-1.302583</td>\n",
       "      <td>36.767081</td>\n",
       "      <td>Rider_Id_630</td>\n",
       "      <td>1244</td>\n",
       "    </tr>\n",
       "    <tr>\n",
       "      <th>499</th>\n",
       "      <td>Order_No_748</td>\n",
       "      <td>User_Id_540</td>\n",
       "      <td>Bike</td>\n",
       "      <td>3</td>\n",
       "      <td>Business</td>\n",
       "      <td>19</td>\n",
       "      <td>3</td>\n",
       "      <td>2:24:53 PM</td>\n",
       "      <td>19</td>\n",
       "      <td>3</td>\n",
       "      <td>...</td>\n",
       "      <td>4:20:05 PM</td>\n",
       "      <td>6</td>\n",
       "      <td>24.3</td>\n",
       "      <td>NaN</td>\n",
       "      <td>-1.264960</td>\n",
       "      <td>36.798178</td>\n",
       "      <td>-1.294071</td>\n",
       "      <td>36.789076</td>\n",
       "      <td>Rider_Id_554</td>\n",
       "      <td>4415</td>\n",
       "    </tr>\n",
       "    <tr>\n",
       "      <th>1572</th>\n",
       "      <td>Order_No_15251</td>\n",
       "      <td>User_Id_701</td>\n",
       "      <td>Bike</td>\n",
       "      <td>3</td>\n",
       "      <td>Personal</td>\n",
       "      <td>14</td>\n",
       "      <td>5</td>\n",
       "      <td>2:50:09 PM</td>\n",
       "      <td>14</td>\n",
       "      <td>5</td>\n",
       "      <td>...</td>\n",
       "      <td>4:23:44 PM</td>\n",
       "      <td>10</td>\n",
       "      <td>23.7</td>\n",
       "      <td>NaN</td>\n",
       "      <td>-1.308079</td>\n",
       "      <td>36.750540</td>\n",
       "      <td>-1.286861</td>\n",
       "      <td>36.826575</td>\n",
       "      <td>Rider_Id_858</td>\n",
       "      <td>2294</td>\n",
       "    </tr>\n",
       "    <tr>\n",
       "      <th>2464</th>\n",
       "      <td>Order_No_26005</td>\n",
       "      <td>User_Id_432</td>\n",
       "      <td>Bike</td>\n",
       "      <td>3</td>\n",
       "      <td>Business</td>\n",
       "      <td>11</td>\n",
       "      <td>2</td>\n",
       "      <td>3:01:50 PM</td>\n",
       "      <td>11</td>\n",
       "      <td>2</td>\n",
       "      <td>...</td>\n",
       "      <td>3:54:00 PM</td>\n",
       "      <td>3</td>\n",
       "      <td>21.4</td>\n",
       "      <td>NaN</td>\n",
       "      <td>-1.301201</td>\n",
       "      <td>36.764868</td>\n",
       "      <td>-1.276349</td>\n",
       "      <td>36.767178</td>\n",
       "      <td>Rider_Id_133</td>\n",
       "      <td>1251</td>\n",
       "    </tr>\n",
       "    <tr>\n",
       "      <th>17311</th>\n",
       "      <td>Order_No_4764</td>\n",
       "      <td>User_Id_2212</td>\n",
       "      <td>Bike</td>\n",
       "      <td>3</td>\n",
       "      <td>Business</td>\n",
       "      <td>2</td>\n",
       "      <td>4</td>\n",
       "      <td>2:11:21 PM</td>\n",
       "      <td>2</td>\n",
       "      <td>4</td>\n",
       "      <td>...</td>\n",
       "      <td>2:55:33 PM</td>\n",
       "      <td>4</td>\n",
       "      <td>26.0</td>\n",
       "      <td>NaN</td>\n",
       "      <td>-1.264608</td>\n",
       "      <td>36.802864</td>\n",
       "      <td>-1.255956</td>\n",
       "      <td>36.772901</td>\n",
       "      <td>Rider_Id_520</td>\n",
       "      <td>1309</td>\n",
       "    </tr>\n",
       "  </tbody>\n",
       "</table>\n",
       "<p>5 rows × 29 columns</p>\n",
       "</div>"
      ],
      "text/plain": [
       "             Order No       User Id Vehicle Type  Platform Type  \\\n",
       "2130   Order_No_13468  User_Id_2869         Bike              3   \n",
       "499      Order_No_748   User_Id_540         Bike              3   \n",
       "1572   Order_No_15251   User_Id_701         Bike              3   \n",
       "2464   Order_No_26005   User_Id_432         Bike              3   \n",
       "17311   Order_No_4764  User_Id_2212         Bike              3   \n",
       "\n",
       "      Personal or Business  Placement - Day of Month  \\\n",
       "2130              Business                         5   \n",
       "499               Business                        19   \n",
       "1572              Personal                        14   \n",
       "2464              Business                        11   \n",
       "17311             Business                         2   \n",
       "\n",
       "       Placement - Weekday (Mo = 1) Placement - Time  \\\n",
       "2130                              5      10:24:56 AM   \n",
       "499                               3       2:24:53 PM   \n",
       "1572                              5       2:50:09 PM   \n",
       "2464                              2       3:01:50 PM   \n",
       "17311                             4       2:11:21 PM   \n",
       "\n",
       "       Confirmation - Day of Month  Confirmation - Weekday (Mo = 1)  ...  \\\n",
       "2130                             5                                5  ...   \n",
       "499                             19                                3  ...   \n",
       "1572                            14                                5  ...   \n",
       "2464                            11                                2  ...   \n",
       "17311                            2                                4  ...   \n",
       "\n",
       "      Arrival at Destination - Time  Distance (KM)  Temperature  \\\n",
       "2130                    11:04:41 AM             10         24.5   \n",
       "499                      4:20:05 PM              6         24.3   \n",
       "1572                     4:23:44 PM             10         23.7   \n",
       "2464                     3:54:00 PM              3         21.4   \n",
       "17311                    2:55:33 PM              4         26.0   \n",
       "\n",
       "      Precipitation in millimeters  Pickup Lat  Pickup Long Destination Lat  \\\n",
       "2130                           NaN   -1.258414    36.804800       -1.302583   \n",
       "499                            NaN   -1.264960    36.798178       -1.294071   \n",
       "1572                           NaN   -1.308079    36.750540       -1.286861   \n",
       "2464                           NaN   -1.301201    36.764868       -1.276349   \n",
       "17311                          NaN   -1.264608    36.802864       -1.255956   \n",
       "\n",
       "       Destination Long      Rider Id Time from Pickup to Arrival  \n",
       "2130          36.767081  Rider_Id_630                        1244  \n",
       "499           36.789076  Rider_Id_554                        4415  \n",
       "1572          36.826575  Rider_Id_858                        2294  \n",
       "2464          36.767178  Rider_Id_133                        1251  \n",
       "17311         36.772901  Rider_Id_520                        1309  \n",
       "\n",
       "[5 rows x 29 columns]"
      ]
     },
     "execution_count": 3,
     "metadata": {},
     "output_type": "execute_result"
    }
   ],
   "source": [
    "df.sample(5)"
   ]
  },
  {
   "cell_type": "markdown",
   "id": "6540ed8d-c975-418c-987e-703320aae577",
   "metadata": {},
   "source": [
    "## Affichage des catégories de la colomne Vehicle Type\n",
    "On compte le nombre de valeurs unique de la colomne ; comme il n'y en a qu'une seule, on peut s'arrêter là."
   ]
  },
  {
   "cell_type": "code",
   "execution_count": 4,
   "id": "e53c3966-c3ce-4044-a00c-7135bff29b00",
   "metadata": {},
   "outputs": [
    {
     "data": {
      "text/plain": [
       "array(['Bike'], dtype=object)"
      ]
     },
     "execution_count": 4,
     "metadata": {},
     "output_type": "execute_result"
    }
   ],
   "source": [
    "df[\"Vehicle Type\"].unique()"
   ]
  },
  {
   "cell_type": "markdown",
   "id": "783ae194-46b9-443e-8495-a29504364c02",
   "metadata": {},
   "source": [
    "## Affichage des catégories de la colomne Personal or Business"
   ]
  },
  {
   "cell_type": "code",
   "execution_count": 13,
   "id": "87a969b3-ee7b-437d-90df-1437c9767d3e",
   "metadata": {},
   "outputs": [
    {
     "name": "stdout",
     "output_type": "stream",
     "text": [
      "Business 17384\n",
      "Personal 3817\n"
     ]
    }
   ],
   "source": [
    "for col in df[\"Personal or Business\"].unique():\n",
    "    print(col, df[df[\"Personal or Business\"] == col].shape[0])"
   ]
  },
  {
   "cell_type": "code",
   "execution_count": 15,
   "id": "330d8595-4a99-43c9-a68d-0afa3657f212",
   "metadata": {},
   "outputs": [
    {
     "data": {
      "text/plain": [
       "Business    17384\n",
       "Personal     3817\n",
       "Name: Personal or Business, dtype: int64"
      ]
     },
     "execution_count": 15,
     "metadata": {},
     "output_type": "execute_result"
    }
   ],
   "source": [
    "df[\"Personal or Business\"].value_counts()"
   ]
  },
  {
   "cell_type": "code",
   "execution_count": 18,
   "id": "8590a421-1cef-48b5-9ef9-343f75dccee1",
   "metadata": {},
   "outputs": [
    {
     "data": {
      "text/plain": [
       "Personal or Business\n",
       "Business    17384\n",
       "Personal     3817\n",
       "dtype: int64"
      ]
     },
     "execution_count": 18,
     "metadata": {},
     "output_type": "execute_result"
    }
   ],
   "source": [
    "df.groupby(\"Personal or Business\").size()"
   ]
  }
 ],
 "metadata": {
  "kernelspec": {
   "display_name": "Python 3 (ipykernel)",
   "language": "python",
   "name": "python3"
  },
  "language_info": {
   "codemirror_mode": {
    "name": "ipython",
    "version": 3
   },
   "file_extension": ".py",
   "mimetype": "text/x-python",
   "name": "python",
   "nbconvert_exporter": "python",
   "pygments_lexer": "ipython3",
   "version": "3.10.4"
  }
 },
 "nbformat": 4,
 "nbformat_minor": 5
}
