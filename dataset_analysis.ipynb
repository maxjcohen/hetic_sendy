{
 "cells": [
  {
   "cell_type": "code",
   "execution_count": 1,
   "id": "e2c4a4c0-8d78-48f5-a653-6b027bc4c900",
   "metadata": {},
   "outputs": [],
   "source": [
    "import pandas as pd"
   ]
  },
  {
   "cell_type": "markdown",
   "id": "16fee28e-fa14-481c-b8cf-5fa981395a6d",
   "metadata": {},
   "source": [
    "## Lecture du CSV"
   ]
  },
  {
   "cell_type": "code",
   "execution_count": 2,
   "id": "928471a5-c94d-443a-a7e0-ef9746146ad6",
   "metadata": {},
   "outputs": [],
   "source": [
    "df = pd.read_csv(\"Train.csv\")"
   ]
  },
  {
   "cell_type": "markdown",
   "id": "86770302-8705-4501-9798-70d4024cad16",
   "metadata": {},
   "source": [
    "## Affichage d'un échantillon de la base de données"
   ]
  },
  {
   "cell_type": "code",
   "execution_count": 3,
   "id": "7d8a2dd6-52c4-4b62-b9fa-40d1a21b7bdf",
   "metadata": {},
   "outputs": [
    {
     "data": {
      "text/html": [
       "<div>\n",
       "<style scoped>\n",
       "    .dataframe tbody tr th:only-of-type {\n",
       "        vertical-align: middle;\n",
       "    }\n",
       "\n",
       "    .dataframe tbody tr th {\n",
       "        vertical-align: top;\n",
       "    }\n",
       "\n",
       "    .dataframe thead th {\n",
       "        text-align: right;\n",
       "    }\n",
       "</style>\n",
       "<table border=\"1\" class=\"dataframe\">\n",
       "  <thead>\n",
       "    <tr style=\"text-align: right;\">\n",
       "      <th></th>\n",
       "      <th>Order No</th>\n",
       "      <th>User Id</th>\n",
       "      <th>Vehicle Type</th>\n",
       "      <th>Platform Type</th>\n",
       "      <th>Personal or Business</th>\n",
       "      <th>Placement - Day of Month</th>\n",
       "      <th>Placement - Weekday (Mo = 1)</th>\n",
       "      <th>Placement - Time</th>\n",
       "      <th>Confirmation - Day of Month</th>\n",
       "      <th>Confirmation - Weekday (Mo = 1)</th>\n",
       "      <th>...</th>\n",
       "      <th>Arrival at Destination - Time</th>\n",
       "      <th>Distance (KM)</th>\n",
       "      <th>Temperature</th>\n",
       "      <th>Precipitation in millimeters</th>\n",
       "      <th>Pickup Lat</th>\n",
       "      <th>Pickup Long</th>\n",
       "      <th>Destination Lat</th>\n",
       "      <th>Destination Long</th>\n",
       "      <th>Rider Id</th>\n",
       "      <th>Time from Pickup to Arrival</th>\n",
       "    </tr>\n",
       "  </thead>\n",
       "  <tbody>\n",
       "    <tr>\n",
       "      <th>15381</th>\n",
       "      <td>Order_No_20860</td>\n",
       "      <td>User_Id_2008</td>\n",
       "      <td>Bike</td>\n",
       "      <td>3</td>\n",
       "      <td>Business</td>\n",
       "      <td>12</td>\n",
       "      <td>4</td>\n",
       "      <td>1:34:09 PM</td>\n",
       "      <td>12</td>\n",
       "      <td>4</td>\n",
       "      <td>...</td>\n",
       "      <td>3:05:12 PM</td>\n",
       "      <td>7</td>\n",
       "      <td>21.6</td>\n",
       "      <td>NaN</td>\n",
       "      <td>-1.250823</td>\n",
       "      <td>36.789526</td>\n",
       "      <td>-1.278586</td>\n",
       "      <td>36.828968</td>\n",
       "      <td>Rider_Id_752</td>\n",
       "      <td>3892</td>\n",
       "    </tr>\n",
       "    <tr>\n",
       "      <th>20142</th>\n",
       "      <td>Order_No_20783</td>\n",
       "      <td>User_Id_393</td>\n",
       "      <td>Bike</td>\n",
       "      <td>3</td>\n",
       "      <td>Business</td>\n",
       "      <td>8</td>\n",
       "      <td>3</td>\n",
       "      <td>10:04:21 AM</td>\n",
       "      <td>8</td>\n",
       "      <td>3</td>\n",
       "      <td>...</td>\n",
       "      <td>10:34:49 AM</td>\n",
       "      <td>4</td>\n",
       "      <td>NaN</td>\n",
       "      <td>NaN</td>\n",
       "      <td>-1.316711</td>\n",
       "      <td>36.830156</td>\n",
       "      <td>-1.300406</td>\n",
       "      <td>36.829741</td>\n",
       "      <td>Rider_Id_411</td>\n",
       "      <td>240</td>\n",
       "    </tr>\n",
       "    <tr>\n",
       "      <th>6963</th>\n",
       "      <td>Order_No_12981</td>\n",
       "      <td>User_Id_419</td>\n",
       "      <td>Bike</td>\n",
       "      <td>3</td>\n",
       "      <td>Business</td>\n",
       "      <td>9</td>\n",
       "      <td>4</td>\n",
       "      <td>5:35:42 PM</td>\n",
       "      <td>9</td>\n",
       "      <td>4</td>\n",
       "      <td>...</td>\n",
       "      <td>5:55:44 PM</td>\n",
       "      <td>3</td>\n",
       "      <td>NaN</td>\n",
       "      <td>NaN</td>\n",
       "      <td>-1.257147</td>\n",
       "      <td>36.795063</td>\n",
       "      <td>-1.255189</td>\n",
       "      <td>36.782203</td>\n",
       "      <td>Rider_Id_205</td>\n",
       "      <td>357</td>\n",
       "    </tr>\n",
       "    <tr>\n",
       "      <th>13862</th>\n",
       "      <td>Order_No_17970</td>\n",
       "      <td>User_Id_2207</td>\n",
       "      <td>Bike</td>\n",
       "      <td>3</td>\n",
       "      <td>Business</td>\n",
       "      <td>29</td>\n",
       "      <td>4</td>\n",
       "      <td>3:11:54 PM</td>\n",
       "      <td>29</td>\n",
       "      <td>4</td>\n",
       "      <td>...</td>\n",
       "      <td>3:47:32 PM</td>\n",
       "      <td>3</td>\n",
       "      <td>24.7</td>\n",
       "      <td>NaN</td>\n",
       "      <td>-1.265981</td>\n",
       "      <td>36.793612</td>\n",
       "      <td>-1.276833</td>\n",
       "      <td>36.807380</td>\n",
       "      <td>Rider_Id_829</td>\n",
       "      <td>1009</td>\n",
       "    </tr>\n",
       "    <tr>\n",
       "      <th>17222</th>\n",
       "      <td>Order_No_20035</td>\n",
       "      <td>User_Id_409</td>\n",
       "      <td>Bike</td>\n",
       "      <td>3</td>\n",
       "      <td>Personal</td>\n",
       "      <td>1</td>\n",
       "      <td>5</td>\n",
       "      <td>4:31:28 PM</td>\n",
       "      <td>1</td>\n",
       "      <td>5</td>\n",
       "      <td>...</td>\n",
       "      <td>7:02:54 PM</td>\n",
       "      <td>11</td>\n",
       "      <td>30.2</td>\n",
       "      <td>NaN</td>\n",
       "      <td>-1.253985</td>\n",
       "      <td>36.824721</td>\n",
       "      <td>-1.304735</td>\n",
       "      <td>36.784605</td>\n",
       "      <td>Rider_Id_427</td>\n",
       "      <td>1411</td>\n",
       "    </tr>\n",
       "  </tbody>\n",
       "</table>\n",
       "<p>5 rows × 29 columns</p>\n",
       "</div>"
      ],
      "text/plain": [
       "             Order No       User Id Vehicle Type  Platform Type  \\\n",
       "15381  Order_No_20860  User_Id_2008         Bike              3   \n",
       "20142  Order_No_20783   User_Id_393         Bike              3   \n",
       "6963   Order_No_12981   User_Id_419         Bike              3   \n",
       "13862  Order_No_17970  User_Id_2207         Bike              3   \n",
       "17222  Order_No_20035   User_Id_409         Bike              3   \n",
       "\n",
       "      Personal or Business  Placement - Day of Month  \\\n",
       "15381             Business                        12   \n",
       "20142             Business                         8   \n",
       "6963              Business                         9   \n",
       "13862             Business                        29   \n",
       "17222             Personal                         1   \n",
       "\n",
       "       Placement - Weekday (Mo = 1) Placement - Time  \\\n",
       "15381                             4       1:34:09 PM   \n",
       "20142                             3      10:04:21 AM   \n",
       "6963                              4       5:35:42 PM   \n",
       "13862                             4       3:11:54 PM   \n",
       "17222                             5       4:31:28 PM   \n",
       "\n",
       "       Confirmation - Day of Month  Confirmation - Weekday (Mo = 1)  ...  \\\n",
       "15381                           12                                4  ...   \n",
       "20142                            8                                3  ...   \n",
       "6963                             9                                4  ...   \n",
       "13862                           29                                4  ...   \n",
       "17222                            1                                5  ...   \n",
       "\n",
       "      Arrival at Destination - Time  Distance (KM)  Temperature  \\\n",
       "15381                    3:05:12 PM              7         21.6   \n",
       "20142                   10:34:49 AM              4          NaN   \n",
       "6963                     5:55:44 PM              3          NaN   \n",
       "13862                    3:47:32 PM              3         24.7   \n",
       "17222                    7:02:54 PM             11         30.2   \n",
       "\n",
       "      Precipitation in millimeters  Pickup Lat  Pickup Long Destination Lat  \\\n",
       "15381                          NaN   -1.250823    36.789526       -1.278586   \n",
       "20142                          NaN   -1.316711    36.830156       -1.300406   \n",
       "6963                           NaN   -1.257147    36.795063       -1.255189   \n",
       "13862                          NaN   -1.265981    36.793612       -1.276833   \n",
       "17222                          NaN   -1.253985    36.824721       -1.304735   \n",
       "\n",
       "       Destination Long      Rider Id Time from Pickup to Arrival  \n",
       "15381         36.828968  Rider_Id_752                        3892  \n",
       "20142         36.829741  Rider_Id_411                         240  \n",
       "6963          36.782203  Rider_Id_205                         357  \n",
       "13862         36.807380  Rider_Id_829                        1009  \n",
       "17222         36.784605  Rider_Id_427                        1411  \n",
       "\n",
       "[5 rows x 29 columns]"
      ]
     },
     "execution_count": 3,
     "metadata": {},
     "output_type": "execute_result"
    }
   ],
   "source": [
    "df.sample(5)"
   ]
  },
  {
   "cell_type": "markdown",
   "id": "6540ed8d-c975-418c-987e-703320aae577",
   "metadata": {},
   "source": [
    "## Affichage des catégories de la colomne Vehicle Type\n",
    "On compte le nombre de valeurs unique de la colomne ; comme il n'y en a qu'une seule, on peut s'arrêter là."
   ]
  },
  {
   "cell_type": "code",
   "execution_count": 4,
   "id": "e53c3966-c3ce-4044-a00c-7135bff29b00",
   "metadata": {},
   "outputs": [
    {
     "data": {
      "text/plain": [
       "array(['Bike'], dtype=object)"
      ]
     },
     "execution_count": 4,
     "metadata": {},
     "output_type": "execute_result"
    }
   ],
   "source": [
    "df[\"Vehicle Type\"].unique()"
   ]
  },
  {
   "cell_type": "markdown",
   "id": "783ae194-46b9-443e-8495-a29504364c02",
   "metadata": {},
   "source": [
    "## Affichage des catégories de la colomne Personal or Business"
   ]
  },
  {
   "cell_type": "code",
   "execution_count": 15,
   "id": "3e3efd13-f5b1-409b-bad2-9ab95e5cd311",
   "metadata": {},
   "outputs": [
    {
     "data": {
      "text/plain": [
       "{'Business': 17384, 'Personal': 3817}"
      ]
     },
     "execution_count": 15,
     "metadata": {},
     "output_type": "execute_result"
    }
   ],
   "source": [
    "size_columns = {}\n",
    "for col in df[\"Personal or Business\"].unique():\n",
    "    size_columns[col] = df[df[\"Personal or Business\"] == col].shape[0]\n",
    "size_columns"
   ]
  },
  {
   "cell_type": "code",
   "execution_count": 18,
   "id": "330d8595-4a99-43c9-a68d-0afa3657f212",
   "metadata": {},
   "outputs": [],
   "source": [
    "count_pob = df[\"Personal or Business\"].value_counts()"
   ]
  },
  {
   "cell_type": "code",
   "execution_count": 22,
   "id": "d74f0bfd-97c0-4a76-8980-584918b784aa",
   "metadata": {},
   "outputs": [
    {
     "data": {
      "image/png": "[encoded data removed]",
      "text/plain": [
       "<Figure size 432x288 with 1 Axes>"
      ]
     },
     "metadata": {
      "needs_background": "light"
     },
     "output_type": "display_data"
    }
   ],
   "source": [
    "df[\"Personal or Business\"].value_counts().plot.bar();"
   ]
  }
 ],
 "metadata": {
  "kernelspec": {
   "display_name": "Python 3 (ipykernel)",
   "language": "python",
   "name": "python3"
  },
  "language_info": {
   "codemirror_mode": {
    "name": "ipython",
    "version": 3
   },
   "file_extension": ".py",
   "mimetype": "text/x-python",
   "name": "python",
   "nbconvert_exporter": "python",
   "pygments_lexer": "ipython3",
   "version": "3.10.4"
  }
 },
 "nbformat": 4,
 "nbformat_minor": 5
}
